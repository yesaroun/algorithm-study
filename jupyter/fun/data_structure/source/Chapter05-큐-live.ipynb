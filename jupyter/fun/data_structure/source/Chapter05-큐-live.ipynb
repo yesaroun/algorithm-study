{
 "cells": [
  {
   "cell_type": "markdown",
   "metadata": {},
   "source": [
    "## 대표적인 데이터 구조4: 큐 (Queue)\n",
    "\n",
    "### 1. 큐 구조\n",
    "* 줄을 서는 행위와 유사\n",
    "* 가장 먼저 넣은 데이터를 가장 먼저 꺼낼 수 있는 구조\n",
    "  - 음식점에서 가장 먼저 줄을 선 사람이 제일 먼저 음식점에 입장하는 것과 동일\n",
    "  - FIFO(First-In, First-Out) 또는 LILO(Last-In, Last-Out) 방식으로 스택과 꺼내는 순서가 반대\n",
    "  \n",
    "<img src=\"https://www.fun-coding.org/00_Images/queue.png\" />\n",
    "* 출처: http://www.stoimen.com/blog/2012/06/05/computer-algorithms-stack-and-queue-data-structure/\n",
    "\n",
    "> 엑셀로 이해해보기"
   ]
  },
  {
   "cell_type": "markdown",
   "metadata": {},
   "source": [
    "### 2. 알아둘 용어\n",
    "* Enqueue: 큐에 데이터를 넣는 기능\n",
    "* Dequeue: 큐에서 데이터를 꺼내는 기능\n",
    "* <font color='#BF360C'>Visualgo 사이트에서 시연해보며 이해하기 (enqueue/dequeue 만 클릭해보며): https://visualgo.net/en/list"
   ]
  },
  {
   "cell_type": "markdown",
   "metadata": {},
   "source": [
    "### 3. 파이썬 queue 라이브러리 활용해서 큐 자료 구조 사용하기\n",
    "* **queue 라이브러리에는 다양한 큐 구조로 Queue(), LifoQueue(), PriorityQueue() 제공**\n",
    "* <font color='#BF360C'>프로그램을 작성할 때 프로그램에 따라 적합한 자료 구조를 사용</font>\n",
    "  - Queue(): 가장 일반적인 큐 자료 구조\n",
    "  - LifoQueue(): 나중에 입력된 데이터가 먼저 출력되는 구조 (스택 구조라고 보면 됨)\n",
    "  - PriorityQueue(): 데이터마다 우선순위를 넣어서, 우선순위가 높은 순으로 데이터 출력\n",
    "  \n",
    "> 일반적인 큐 외에 다양한 정책이 적용된 큐들이 있음"
   ]
  },
  {
   "cell_type": "markdown",
   "metadata": {},
   "source": [
    "#### 3.1. Queue()로 큐 만들기 (가장 일반적인 큐, FIFO(First-In, First-Out))"
   ]
  },
  {
   "cell_type": "code",
   "metadata": {
    "ExecuteTime": {
     "end_time": "2024-09-22T07:39:08.928740Z",
     "start_time": "2024-09-22T07:39:08.926778Z"
    }
   },
   "source": [
    "import queue\n",
    "\n",
    "data_queue = queue.Queue()"
   ],
   "outputs": [],
   "execution_count": 1
  },
  {
   "cell_type": "code",
   "metadata": {
    "ExecuteTime": {
     "end_time": "2024-09-22T07:39:08.930912Z",
     "start_time": "2024-09-22T07:39:08.929560Z"
    }
   },
   "source": [
    "data_queue.put(\"funcoding\")\n",
    "data_queue.put(1)"
   ],
   "outputs": [],
   "execution_count": 2
  },
  {
   "cell_type": "code",
   "metadata": {
    "ExecuteTime": {
     "end_time": "2024-09-22T07:39:08.933739Z",
     "start_time": "2024-09-22T07:39:08.931327Z"
    }
   },
   "source": [
    "data_queue.qsize()"
   ],
   "outputs": [
    {
     "data": {
      "text/plain": [
       "2"
      ]
     },
     "execution_count": 3,
     "metadata": {},
     "output_type": "execute_result"
    }
   ],
   "execution_count": 3
  },
  {
   "cell_type": "code",
   "metadata": {
    "ExecuteTime": {
     "end_time": "2024-09-22T07:39:08.935822Z",
     "start_time": "2024-09-22T07:39:08.934240Z"
    }
   },
   "source": [
    "data_queue.get()"
   ],
   "outputs": [
    {
     "data": {
      "text/plain": [
       "'funcoding'"
      ]
     },
     "execution_count": 4,
     "metadata": {},
     "output_type": "execute_result"
    }
   ],
   "execution_count": 4
  },
  {
   "cell_type": "code",
   "metadata": {
    "ExecuteTime": {
     "end_time": "2024-09-22T07:39:08.938685Z",
     "start_time": "2024-09-22T07:39:08.937021Z"
    }
   },
   "source": [
    "data_queue.qsize()"
   ],
   "outputs": [
    {
     "data": {
      "text/plain": [
       "1"
      ]
     },
     "execution_count": 5,
     "metadata": {},
     "output_type": "execute_result"
    }
   ],
   "execution_count": 5
  },
  {
   "cell_type": "code",
   "metadata": {
    "ExecuteTime": {
     "end_time": "2024-09-22T07:39:08.940761Z",
     "start_time": "2024-09-22T07:39:08.939169Z"
    }
   },
   "source": [
    "data_queue.get()"
   ],
   "outputs": [
    {
     "data": {
      "text/plain": [
       "1"
      ]
     },
     "execution_count": 6,
     "metadata": {},
     "output_type": "execute_result"
    }
   ],
   "execution_count": 6
  },
  {
   "cell_type": "markdown",
   "metadata": {},
   "source": [
    "#### 3.2. LifoQueue()로 큐 만들기 (LIFO(Last-In, First-Out))"
   ]
  },
  {
   "cell_type": "code",
   "metadata": {
    "ExecuteTime": {
     "end_time": "2024-09-22T07:39:08.942502Z",
     "start_time": "2024-09-22T07:39:08.941241Z"
    }
   },
   "source": [
    "import queue\n",
    "\n",
    "data_queue = queue.LifoQueue()"
   ],
   "outputs": [],
   "execution_count": 7
  },
  {
   "cell_type": "code",
   "metadata": {
    "ExecuteTime": {
     "end_time": "2024-09-22T07:39:08.944151Z",
     "start_time": "2024-09-22T07:39:08.942878Z"
    }
   },
   "source": [
    "data_queue.put(\"funcoding\")\n",
    "data_queue.put(1)"
   ],
   "outputs": [],
   "execution_count": 8
  },
  {
   "cell_type": "code",
   "metadata": {
    "ExecuteTime": {
     "end_time": "2024-09-22T07:39:08.946046Z",
     "start_time": "2024-09-22T07:39:08.944560Z"
    }
   },
   "source": [
    "data_queue.qsize()"
   ],
   "outputs": [
    {
     "data": {
      "text/plain": [
       "2"
      ]
     },
     "execution_count": 9,
     "metadata": {},
     "output_type": "execute_result"
    }
   ],
   "execution_count": 9
  },
  {
   "cell_type": "code",
   "metadata": {
    "ExecuteTime": {
     "end_time": "2024-09-22T07:39:08.948635Z",
     "start_time": "2024-09-22T07:39:08.947177Z"
    }
   },
   "source": [
    "data_queue.get()"
   ],
   "outputs": [
    {
     "data": {
      "text/plain": [
       "1"
      ]
     },
     "execution_count": 10,
     "metadata": {},
     "output_type": "execute_result"
    }
   ],
   "execution_count": 10
  },
  {
   "cell_type": "markdown",
   "metadata": {},
   "source": [
    "#### 3.3. PriorityQueue()로 큐 만들기"
   ]
  },
  {
   "cell_type": "code",
   "metadata": {
    "ExecuteTime": {
     "end_time": "2024-09-22T07:39:08.950251Z",
     "start_time": "2024-09-22T07:39:08.948986Z"
    }
   },
   "source": [
    "import queue\n",
    "\n",
    "data_queue = queue.PriorityQueue()"
   ],
   "outputs": [],
   "execution_count": 11
  },
  {
   "cell_type": "code",
   "metadata": {
    "ExecuteTime": {
     "end_time": "2024-09-22T07:39:08.951944Z",
     "start_time": "2024-09-22T07:39:08.950740Z"
    }
   },
   "source": [
    "data_queue.put((10, \"korea\"))\n",
    "data_queue.put((5, 1))\n",
    "data_queue.put((15, \"china\"))"
   ],
   "outputs": [],
   "execution_count": 12
  },
  {
   "cell_type": "code",
   "metadata": {
    "ExecuteTime": {
     "end_time": "2024-09-22T07:39:08.953882Z",
     "start_time": "2024-09-22T07:39:08.952397Z"
    }
   },
   "source": [
    "data_queue.qsize()"
   ],
   "outputs": [
    {
     "data": {
      "text/plain": [
       "3"
      ]
     },
     "execution_count": 13,
     "metadata": {},
     "output_type": "execute_result"
    }
   ],
   "execution_count": 13
  },
  {
   "cell_type": "code",
   "metadata": {
    "ExecuteTime": {
     "end_time": "2024-09-22T07:39:08.956092Z",
     "start_time": "2024-09-22T07:39:08.954446Z"
    }
   },
   "source": [
    "data_queue.get()"
   ],
   "outputs": [
    {
     "data": {
      "text/plain": [
       "(5, 1)"
      ]
     },
     "execution_count": 14,
     "metadata": {},
     "output_type": "execute_result"
    }
   ],
   "execution_count": 14
  },
  {
   "cell_type": "code",
   "metadata": {
    "ExecuteTime": {
     "end_time": "2024-09-22T07:39:08.958734Z",
     "start_time": "2024-09-22T07:39:08.957156Z"
    }
   },
   "source": [
    "data_queue.get()"
   ],
   "outputs": [
    {
     "data": {
      "text/plain": [
       "(10, 'korea')"
      ]
     },
     "execution_count": 15,
     "metadata": {},
     "output_type": "execute_result"
    }
   ],
   "execution_count": 15
  },
  {
   "cell_type": "markdown",
   "metadata": {},
   "source": [
    "### 참고: 어디에 큐가 많이 쓰일까?\n",
    "- 멀티 태스킹을 위한 프로세스 스케쥴링 방식을 구현하기 위해 많이 사용됨 (운영체제 참조)\n",
    "\n",
    "> 큐의 경우에는 장단점 보다는 (특별히 언급되는 장단점이 없음), 큐의 활용 예로 프로세스 스케쥴링 방식을 함께 이해해두는 것이 좋음"
   ]
  },
  {
   "cell_type": "markdown",
   "metadata": {},
   "source": [
    "### 4. 프로그래밍 연습 "
   ]
  },
  {
   "cell_type": "markdown",
   "metadata": {},
   "source": [
    "<div class=\"alert alert-block alert-warning\">\n",
    "<strong><font color=\"blue\" size=\"3em\">연습1: 리스트 변수로 큐를 다루는 enqueue, dequeue 기능 구현해보기</font></strong>\n",
    "</div>"
   ]
  },
  {
   "cell_type": "code",
   "metadata": {
    "ExecuteTime": {
     "end_time": "2024-09-22T07:39:08.968026Z",
     "start_time": "2024-09-22T07:39:08.966534Z"
    }
   },
   "source": [
    "queue_list = list()\n",
    "\n",
    "\n",
    "def enqueue(data):\n",
    "    queue_list.append(data)\n",
    "\n",
    "\n",
    "def dequeue():\n",
    "    data = queue_list[0]\n",
    "    del queue_list[0]\n",
    "    return data"
   ],
   "outputs": [],
   "execution_count": 16
  },
  {
   "cell_type": "code",
   "metadata": {
    "ExecuteTime": {
     "end_time": "2024-09-22T07:39:08.978859Z",
     "start_time": "2024-09-22T07:39:08.977567Z"
    }
   },
   "source": [
    "for index in range(10):\n",
    "    enqueue(index)\n"
   ],
   "outputs": [],
   "execution_count": 17
  },
  {
   "cell_type": "code",
   "metadata": {
    "ExecuteTime": {
     "end_time": "2024-09-22T07:39:08.986103Z",
     "start_time": "2024-09-22T07:39:08.984400Z"
    }
   },
   "source": [
    "len(queue_list)"
   ],
   "outputs": [
    {
     "data": {
      "text/plain": [
       "10"
      ]
     },
     "execution_count": 18,
     "metadata": {},
     "output_type": "execute_result"
    }
   ],
   "execution_count": 18
  },
  {
   "cell_type": "code",
   "metadata": {
    "ExecuteTime": {
     "end_time": "2024-09-22T07:39:08.988334Z",
     "start_time": "2024-09-22T07:39:08.986737Z"
    }
   },
   "source": [
    "dequeue()"
   ],
   "outputs": [
    {
     "data": {
      "text/plain": [
       "0"
      ]
     },
     "execution_count": 19,
     "metadata": {},
     "output_type": "execute_result"
    }
   ],
   "execution_count": 19
  },
  {
   "cell_type": "markdown",
   "metadata": {},
   "source": [
    "### 쉬어가기: https://youtu.be/u6RoU-SDpYE"
   ]
  }
 ],
 "metadata": {
  "kernelspec": {
   "display_name": "Python 3",
   "language": "python",
   "name": "python3"
  },
  "language_info": {
   "codemirror_mode": {
    "name": "ipython",
    "version": 3
   },
   "file_extension": ".py",
   "mimetype": "text/x-python",
   "name": "python",
   "nbconvert_exporter": "python",
   "pygments_lexer": "ipython3",
   "version": "3.7.2"
  },
  "nbTranslate": {
   "displayLangs": [
    "*"
   ],
   "hotkey": "alt-t",
   "langInMainMenu": true,
   "sourceLang": "en",
   "targetLang": "fr",
   "useGoogleTranslate": true
  }
 },
 "nbformat": 4,
 "nbformat_minor": 1
}
