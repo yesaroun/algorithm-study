{
 "cells": [
  {
   "cell_type": "code",
   "id": "initial_id",
   "metadata": {
    "collapsed": true,
    "ExecuteTime": {
     "end_time": "2024-09-22T07:44:17.347297Z",
     "start_time": "2024-09-22T07:44:17.345086Z"
    }
   },
   "source": [
    "import queue\n",
    "\n",
    "data_qaueue = queue.Queue()"
   ],
   "outputs": [],
   "execution_count": 3
  },
  {
   "metadata": {
    "ExecuteTime": {
     "end_time": "2024-09-22T07:44:32.581383Z",
     "start_time": "2024-09-22T07:44:32.578709Z"
    }
   },
   "cell_type": "code",
   "source": [
    "data_qaueue.put(\"fun\")\n",
    "data_qaueue.put(1)"
   ],
   "id": "1a63d3e0e2fa158e",
   "outputs": [],
   "execution_count": 4
  },
  {
   "metadata": {
    "ExecuteTime": {
     "end_time": "2024-09-22T07:44:39.479763Z",
     "start_time": "2024-09-22T07:44:39.476060Z"
    }
   },
   "cell_type": "code",
   "source": "data_qaueue.qsize()",
   "id": "3a75af4a710d108f",
   "outputs": [
    {
     "data": {
      "text/plain": [
       "2"
      ]
     },
     "execution_count": 5,
     "metadata": {},
     "output_type": "execute_result"
    }
   ],
   "execution_count": 5
  },
  {
   "metadata": {
    "ExecuteTime": {
     "end_time": "2024-09-22T07:44:45.733376Z",
     "start_time": "2024-09-22T07:44:45.730476Z"
    }
   },
   "cell_type": "code",
   "source": "data_qaueue.get()",
   "id": "9d8ca1d151454683",
   "outputs": [
    {
     "data": {
      "text/plain": [
       "'fun'"
      ]
     },
     "execution_count": 6,
     "metadata": {},
     "output_type": "execute_result"
    }
   ],
   "execution_count": 6
  },
  {
   "metadata": {
    "ExecuteTime": {
     "end_time": "2024-09-22T07:44:54.614406Z",
     "start_time": "2024-09-22T07:44:54.611590Z"
    }
   },
   "cell_type": "code",
   "source": "data_qaueue.qsize()",
   "id": "284eb21c0ad01ec4",
   "outputs": [
    {
     "data": {
      "text/plain": [
       "1"
      ]
     },
     "execution_count": 7,
     "metadata": {},
     "output_type": "execute_result"
    }
   ],
   "execution_count": 7
  },
  {
   "metadata": {
    "ExecuteTime": {
     "end_time": "2024-09-22T07:44:59.057518Z",
     "start_time": "2024-09-22T07:44:59.054906Z"
    }
   },
   "cell_type": "code",
   "source": "data_qaueue.get()",
   "id": "3db781333e95a197",
   "outputs": [
    {
     "data": {
      "text/plain": [
       "1"
      ]
     },
     "execution_count": 8,
     "metadata": {},
     "output_type": "execute_result"
    }
   ],
   "execution_count": 8
  },
  {
   "metadata": {
    "ExecuteTime": {
     "end_time": "2024-09-22T07:46:02.784627Z",
     "start_time": "2024-09-22T07:46:02.781087Z"
    }
   },
   "cell_type": "code",
   "source": "data_qaueue = queue.LifoQueue()",
   "id": "7f6389e1ca2707e8",
   "outputs": [],
   "execution_count": 9
  },
  {
   "metadata": {
    "ExecuteTime": {
     "end_time": "2024-09-22T07:46:12.848960Z",
     "start_time": "2024-09-22T07:46:12.846753Z"
    }
   },
   "cell_type": "code",
   "source": [
    "data_qaueue.put(\"fun\")\n",
    "data_qaueue.put(1)"
   ],
   "id": "b9d7b14d98d8453f",
   "outputs": [],
   "execution_count": 10
  },
  {
   "metadata": {
    "ExecuteTime": {
     "end_time": "2024-09-22T07:46:16.084604Z",
     "start_time": "2024-09-22T07:46:16.081512Z"
    }
   },
   "cell_type": "code",
   "source": "data_qaueue.qsize()",
   "id": "224edfe8387c8386",
   "outputs": [
    {
     "data": {
      "text/plain": [
       "2"
      ]
     },
     "execution_count": 11,
     "metadata": {},
     "output_type": "execute_result"
    }
   ],
   "execution_count": 11
  },
  {
   "metadata": {
    "ExecuteTime": {
     "end_time": "2024-09-22T07:46:19.461439Z",
     "start_time": "2024-09-22T07:46:19.458742Z"
    }
   },
   "cell_type": "code",
   "source": "data_qaueue.get()",
   "id": "393824e1432ede99",
   "outputs": [
    {
     "data": {
      "text/plain": [
       "1"
      ]
     },
     "execution_count": 12,
     "metadata": {},
     "output_type": "execute_result"
    }
   ],
   "execution_count": 12
  },
  {
   "metadata": {
    "ExecuteTime": {
     "end_time": "2024-09-22T07:47:36.710475Z",
     "start_time": "2024-09-22T07:47:36.706581Z"
    }
   },
   "cell_type": "code",
   "source": "data_qaueue = queue.PriorityQueue()",
   "id": "2aa7ba49af212de6",
   "outputs": [],
   "execution_count": 13
  },
  {
   "metadata": {
    "ExecuteTime": {
     "end_time": "2024-09-22T07:48:18.898410Z",
     "start_time": "2024-09-22T07:48:18.895768Z"
    }
   },
   "cell_type": "code",
   "source": [
    "data_qaueue.put((10, 'korea'))\n",
    "data_qaueue.put((5, 1))\n",
    "data_qaueue.put((15, \"china\"))"
   ],
   "id": "e50409271bc9ca49",
   "outputs": [],
   "execution_count": 14
  },
  {
   "metadata": {
    "ExecuteTime": {
     "end_time": "2024-09-22T07:48:25.879959Z",
     "start_time": "2024-09-22T07:48:25.877163Z"
    }
   },
   "cell_type": "code",
   "source": "data_qaueue.qsize()",
   "id": "a14aa521d08716f2",
   "outputs": [
    {
     "data": {
      "text/plain": [
       "3"
      ]
     },
     "execution_count": 15,
     "metadata": {},
     "output_type": "execute_result"
    }
   ],
   "execution_count": 15
  },
  {
   "metadata": {
    "ExecuteTime": {
     "end_time": "2024-09-22T07:48:30.919536Z",
     "start_time": "2024-09-22T07:48:30.916591Z"
    }
   },
   "cell_type": "code",
   "source": "data_qaueue.get()",
   "id": "efc457626102473",
   "outputs": [
    {
     "data": {
      "text/plain": [
       "(5, 1)"
      ]
     },
     "execution_count": 16,
     "metadata": {},
     "output_type": "execute_result"
    }
   ],
   "execution_count": 16
  },
  {
   "metadata": {},
   "cell_type": "code",
   "outputs": [],
   "execution_count": null,
   "source": [
    "queue_list = list()\n",
    "\n",
    "\n",
    "def enqueue(data):\n",
    "    queue_list.append(data)\n",
    "\n",
    "\n",
    "def dequeue():\n",
    "    data = queue_list[0]\n",
    "    del queue_list[0]\n",
    "    return data"
   ],
   "id": "b4b59c52eafc4ef4"
  }
 ],
 "metadata": {
  "kernelspec": {
   "display_name": "Python 3",
   "language": "python",
   "name": "python3"
  },
  "language_info": {
   "codemirror_mode": {
    "name": "ipython",
    "version": 2
   },
   "file_extension": ".py",
   "mimetype": "text/x-python",
   "name": "python",
   "nbconvert_exporter": "python",
   "pygments_lexer": "ipython2",
   "version": "2.7.6"
  }
 },
 "nbformat": 4,
 "nbformat_minor": 5
}
