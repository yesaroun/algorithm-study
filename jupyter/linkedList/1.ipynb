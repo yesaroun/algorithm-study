{
 "cells": [
  {
   "metadata": {},
   "cell_type": "markdown",
   "source": [
    "문제: 중간 노드 제거하기\n",
    "\n",
    "**설명**  \n",
    "단일 연결 리스트의 헤드 노드가 주어질 때, **중간 노드**를 삭제한 후의 연결 리스트를 반환하세요.  \n",
    "중간 노드는 전체 길이의 `n // 2` 번째 인덱스에 있는 노드입니다. (0-based 인덱스)  \n",
    "예를 들어 노드가 5개라면 2번째 노드를 삭제합니다.\n",
    "\n",
    "**제약 조건**\n",
    "- 연결 리스트는 최소 1개 이상의 노드로 구성됩니다.\n",
    "- 노드의 개수는 최대 10⁵개입니다.\n",
    "- 연결 리스트의 정의는 다음과 같습니다:\n",
    "\n",
    "```python\n",
    "class ListNode:\n",
    "    def __init__(self, val=0, next=None):\n",
    "        self.val = val\n",
    "        self.next = next\n",
    "```\n",
    "\n",
    "---\n",
    "\n",
    "### 🧪 입력 예시\n",
    "\n",
    "```python\n",
    "입력: head = [1, 2, 3, 4, 5]\n",
    "출력: [1, 2, 4, 5]\n",
    "```\n",
    "\n",
    "```python\n",
    "입력: head = [1, 2, 3, 4]\n",
    "출력: [1, 2, 4]\n",
    "```\n",
    "\n"
   ],
   "id": "4b43b351461876c2"
  },
  {
   "metadata": {
    "ExecuteTime": {
     "end_time": "2025-04-10T13:05:05.004628Z",
     "start_time": "2025-04-10T13:05:04.999647Z"
    }
   },
   "cell_type": "code",
   "source": [
    "class ListNode:\n",
    "    def __init__(self, val=0, next=None):\n",
    "        self.val = val\n",
    "        self.next = next\n",
    "\n",
    "\n",
    "head = ListNode(1)\n",
    "current = head\n",
    "\n",
    "for i in range(2, 6):\n",
    "    current.next = ListNode(i)\n",
    "    current = current.next\n",
    "\n",
    "node = head\n",
    "while node:\n",
    "    print(node.val)\n",
    "    node = node.next"
   ],
   "id": "9171baae45ba1b07",
   "outputs": [
    {
     "name": "stdout",
     "output_type": "stream",
     "text": [
      "1\n",
      "2\n",
      "3\n",
      "4\n",
      "5\n"
     ]
    }
   ],
   "execution_count": 5
  },
  {
   "metadata": {
    "ExecuteTime": {
     "end_time": "2025-04-10T14:39:50.615859Z",
     "start_time": "2025-04-10T14:39:50.612375Z"
    }
   },
   "cell_type": "code",
   "source": [
    "class ListNode:\n",
    "    def __init__(self, val=0, next=None):\n",
    "        self.val = val\n",
    "        self.next = next\n",
    "\n",
    "\n",
    "def add_linked_list_use_list(list):\n",
    "    head = ListNode(list[0])\n",
    "    current = head\n",
    "    if len(list) > 1:\n",
    "        for i in range(1, len(list)):\n",
    "            current.next = ListNode(list[i])\n",
    "            current = current.next\n",
    "    return head\n",
    "\n",
    "\n",
    "def remove_middle_in_linked_list(linked_list_head):\n",
    "    linked_list_len = 0\n",
    "    current = head\n",
    "    while current:\n",
    "        linked_list_len += 1\n",
    "        current = current.next\n",
    "\n",
    "    if linked_list_len == 1:\n",
    "        return None\n",
    "   \n",
    "    middle = linked_list_len // 2\n",
    "    \n",
    "    current = head\n",
    "    \n",
    "    for _ in range(middle - 1):\n",
    "        current = current.next\n",
    "    \n",
    "    current.next = current.next.next\n",
    "    return head\n",
    "\n",
    "# 결과 확인 함수\n",
    "def print_linked_list(head):\n",
    "    while head:\n",
    "        print(head.val, end=\" -> \" if head.next else \"\\n\")\n",
    "        head = head.next"
   ],
   "id": "9185d4228f090949",
   "outputs": [],
   "execution_count": 7
  },
  {
   "metadata": {
    "ExecuteTime": {
     "end_time": "2025-04-10T14:39:58.911035Z",
     "start_time": "2025-04-10T14:39:58.907707Z"
    }
   },
   "cell_type": "code",
   "source": [
    "if __name__ == \"__main__\":\n",
    "    head = add_linked_list_use_list([1, 2, 3, 4, 5])\n",
    "    head = remove_middle_in_linked_list(head)\n",
    "    print_linked_list(head)\n",
    "    \n",
    "        "
   ],
   "id": "de67be39d89b6483",
   "outputs": [
    {
     "name": "stdout",
     "output_type": "stream",
     "text": [
      "1 -> 2 -> 4 -> 5\n"
     ]
    }
   ],
   "execution_count": 8
  },
  {
   "metadata": {},
   "cell_type": "markdown",
   "source": [
    "아주 좋은 질문이야!\n",
    "지금 방식은 **기본적이고 직관적인 방법**이긴 한데, **효율성** 면에서는 최선은 아니야.\n",
    "\n",
    "---\n",
    "\n",
    "## 📌 지금 방식의 특징\n",
    "\n",
    "```python\n",
    "# 1단계: 리스트 길이 계산 (O(n))\n",
    "# 2단계: 중간 노드 전까지 순회 (O(n))\n",
    "# → 총 시간 복잡도: O(n) + O(n) = O(2n) ≈ O(n)\n",
    "```\n",
    "\n",
    "### ✅ 장점:\n",
    "- **이해하기 쉬움**\n",
    "- **문제 풀이 연습 초기에 적합**\n",
    "\n",
    "### ❌ 단점:\n",
    "- **리스트를 두 번 탐색**함 → 공간은 절약되지만 비효율적\n",
    "- 코딩 테스트에서 시간 제한이 빡빡하거나 리스트가 길면 불리할 수 있음\n",
    "\n",
    "---\n",
    "\n",
    "## 🚀 더 좋은 방법: **투 포인터 (fast/slow pointer)**\n",
    "\n",
    "```python\n",
    "- 빠른 포인터(fast)는 두 칸씩\n",
    "- 느린 포인터(slow)는 한 칸씩 이동\n",
    "- fast가 끝에 도달하면 slow는 중간에 도달\n",
    "```\n",
    "\n",
    "### 📦 시간 복잡도: O(n) 한 번만 순회  \n",
    "### 🧠 공간 복잡도: O(1)\n",
    "\n",
    "---\n",
    "\n",
    "### ✨ 예제 코드 (투 포인터 방식)\n",
    "\n",
    "```python\n",
    "def remove_middle_in_linked_list(head):\n",
    "    if not head or not head.next:\n",
    "        return None\n",
    "\n",
    "    slow = head\n",
    "    fast = head\n",
    "    prev = None\n",
    "\n",
    "    while fast and fast.next:\n",
    "        fast = fast.next.next\n",
    "        prev = slow\n",
    "        slow = slow.next\n",
    "\n",
    "    # prev는 중간 노드 앞, slow는 중간 노드\n",
    "    prev.next = slow.next\n",
    "    return head\n",
    "```\n",
    "\n",
    "---\n",
    "\n",
    "### 🧪 테스트 예시\n",
    "\n",
    "```python\n",
    "head = add_linked_list_use_list([1, 2, 3, 4, 5])\n",
    "head = remove_middle_in_linked_list(head)\n",
    "print_linked_list(head)  # 1 -> 2 -> 4 -> 5\n",
    "```\n",
    "\n",
    "---\n",
    "\n",
    "## ✅ 결론\n",
    "\n",
    "| 방식 | 시간 복잡도 | 공간 복잡도 | 설명 |\n",
    "|------|--------------|--------------|------|\n",
    "| 길이 구하고 제거 | O(n) + O(n) | O(1) | 직관적, 리스트 두 번 탐색 |\n",
    "| 투 포인터 | O(n) | O(1) | 효율적, 리스트 한 번만 탐색 |\n",
    "\n",
    "---\n",
    "\n",
    "처음엔 지금처럼 풀어보고, **인터뷰나 실전**에선 투 포인터로 푸는 걸 추천해!  \n",
    "필요하면 리스트 역순 만들기나 중복 제거 문제도 링크드 리스트 응용으로 알려줄 수 있어!"
   ],
   "id": "9d6e6fb5f0a681a5"
  },
  {
   "metadata": {},
   "cell_type": "code",
   "outputs": [],
   "execution_count": null,
   "source": "",
   "id": "6cdfc8160e89f493"
  }
 ],
 "metadata": {
  "kernelspec": {
   "display_name": "Python 3",
   "language": "python",
   "name": "python3"
  },
  "language_info": {
   "codemirror_mode": {
    "name": "ipython",
    "version": 2
   },
   "file_extension": ".py",
   "mimetype": "text/x-python",
   "name": "python",
   "nbconvert_exporter": "python",
   "pygments_lexer": "ipython2",
   "version": "2.7.6"
  }
 },
 "nbformat": 4,
 "nbformat_minor": 5
}
